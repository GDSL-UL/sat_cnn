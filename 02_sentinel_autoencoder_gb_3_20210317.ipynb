{
 "cells": [
  {
   "cell_type": "markdown",
   "metadata": {},
   "source": [
    "# Train the Convolutional auto encoder\n",
    "\n",
    "This notebook defines and trains the CAE model. \n",
    "\n",
    "The NVIDIA Docker container TensorFlow 21.02-tf2 was used to generate a computational environment."
   ]
  },
  {
   "cell_type": "code",
   "execution_count": null,
   "metadata": {},
   "outputs": [],
   "source": [
    "import numpy as np\n",
    "from tensorflow.keras.layers import Conv2D, UpSampling2D, BatchNormalization\n",
    "from tensorflow.keras.models import Sequential\n",
    "import matplotlib.pyplot as plt\n",
    "from tensorflow.keras.models import Model\n",
    "import tensorflow as tf"
   ]
  },
  {
   "cell_type": "code",
   "execution_count": null,
   "metadata": {},
   "outputs": [],
   "source": [
    "%%time\n",
    "tensors = np.load('sentinel_gb_995_3_20210317.npz')['tensors']\n",
    "random = np.random.random(len(tensors))\n",
    "tensors = tensors[random.argsort()]\n",
    "a = np.percentile(random,80)\n",
    "x_train = tensors[random<=a]\n",
    "x_test = tensors[random>a]\n",
    "#x_tensors = tensors"
   ]
  },
  {
   "cell_type": "code",
   "execution_count": null,
   "metadata": {},
   "outputs": [],
   "source": [
    "print(tensors.shape,tensors.dtype)"
   ]
  },
  {
   "cell_type": "code",
   "execution_count": null,
   "metadata": {},
   "outputs": [],
   "source": [
    "tensors[0,0]"
   ]
  },
  {
   "cell_type": "code",
   "execution_count": null,
   "metadata": {},
   "outputs": [],
   "source": [
    "# The next three methods to visualize input/output of our model side-by-side\n",
    "def hstackimgs(min, max, images):\n",
    "    return np.hstack(images[i] for i in range(min, max))\n",
    "\n",
    "def sqstackimgs(length, height, images):\n",
    "    return np.vstack(hstackimgs(i*length, (i+1)*length, images) for i in range(height))\n",
    "\n",
    "def sbscompare(images1, images2, length, height):\n",
    "    A = sqstackimgs(length, height, images1)\n",
    "    B = sqstackimgs(length, height, images2)\n",
    "    C = np.ones((A.shape[0], 32, 3))\n",
    "    return np.hstack((A, C, B))"
   ]
  },
  {
   "cell_type": "code",
   "execution_count": null,
   "metadata": {},
   "outputs": [],
   "source": [
    "tensorboard_callback = tf.keras.callbacks.TensorBoard('.',histogram_freq=1)"
   ]
  },
  {
   "cell_type": "code",
   "execution_count": null,
   "metadata": {},
   "outputs": [],
   "source": [
    "# Symmetrical\n",
    "model = Sequential()\n",
    "k = 4\n",
    "s = 16\n",
    "pad = 'same'\n",
    "\n",
    "model.add(Conv2D(s, kernel_size=k, strides=1, padding=pad, activation='relu', input_shape=(s, s, 4)))\n",
    "model.add(Conv2D(s, kernel_size=k, strides=1, padding=pad, activation='relu'))      # 16x16x16\n",
    "model.add(BatchNormalization())     # 16x16x16\n",
    "model.add(Conv2D(s, kernel_size=k, strides=2, padding=pad, activation='relu'))      # 8x8x16\n",
    "model.add(Conv2D(s, kernel_size=k, strides=1, padding=pad, activation='relu'))      # 8x8x16\n",
    "model.add(Conv2D(4, kernel_size=k, strides=1, padding=pad, activation='relu'))      # 8x8x4\n",
    "model.add(BatchNormalization())     # 8x8x4\n",
    "model.add(Conv2D(4, kernel_size=k, strides=1, padding=pad, activation='relu'))      # 8x8x4\n",
    "model.add(Conv2D(1, kernel_size=k, strides=1, padding=pad, activation='relu'))      # 8x8x1\n",
    "model.add(BatchNormalization())     # 8x8x1\n",
    "model.add(Conv2D(1, kernel_size=k, strides=1, padding=pad, activation='relu'))      # 8x8x1\n",
    "model.add(Conv2D(4, kernel_size=k, strides=1, padding=pad, activation='relu'))      # 8x8x4\n",
    "model.add(BatchNormalization())     # 8x8x4\n",
    "model.add(Conv2D(4, kernel_size=k, strides=1, padding=pad, activation='relu'))      # 8x8x4\n",
    "model.add(Conv2D(s, kernel_size=k, strides=1, padding=pad, activation='relu'))      # 8x8x16\n",
    "model.add(Conv2D(s, kernel_size=k, strides=1, padding=pad, activation='relu'))      # 8x8x16\n",
    "model.add(UpSampling2D())\n",
    "model.add(Conv2D(s, kernel_size=k, strides=1, padding=pad, activation='relu'))      # 16x16x16\n",
    "model.add(Conv2D(s, kernel_size=k, strides=1, padding=pad, activation='relu'))      # 16x16x16\n",
    "model.add(BatchNormalization())\n",
    "model.add(Conv2D(4,  kernel_size=1, strides=1, padding=pad, activation='sigmoid'))   # 16x16x4\n",
    "\n",
    "model.compile(optimizer='adam', metrics=['accuracy'], loss='mean_squared_error')\n",
    "model.summary()"
   ]
  },
  {
   "cell_type": "code",
   "execution_count": null,
   "metadata": {},
   "outputs": [],
   "source": [
    "# Fit the model\n",
    "model.fit(x_train, x_train, epochs=100, batch_size=100,callbacks=[tensorboard_callback],validation_data=(x_test, x_test))"
   ]
  },
  {
   "cell_type": "code",
   "execution_count": null,
   "metadata": {},
   "outputs": [],
   "source": [
    "x_test = x_test[:400]\n",
    "pred_imgs = model.predict(x_test)"
   ]
  },
  {
   "cell_type": "code",
   "execution_count": null,
   "metadata": {},
   "outputs": [],
   "source": [
    "plt.imshow(sbscompare(x_test[:,:,:,0:3], pred_imgs[:,:,:,0:3], 20, 20))\n",
    "plt.axis('off')\n",
    "plt.rcParams[\"figure.figsize\"] = [60,60]\n",
    "plt.show()"
   ]
  },
  {
   "cell_type": "code",
   "execution_count": null,
   "metadata": {},
   "outputs": [],
   "source": [
    "plt.imshow(sbscompare(x_test[:,:,:,1:4], pred_imgs[:,:,:,1:4], 20, 20))\n",
    "plt.axis('off')\n",
    "plt.rcParams[\"figure.figsize\"] = [60,60]\n",
    "plt.show()"
   ]
  },
  {
   "cell_type": "code",
   "execution_count": null,
   "metadata": {},
   "outputs": [],
   "source": [
    "layer_name = model.layers[9].name\n",
    "print(layer_name)"
   ]
  },
  {
   "cell_type": "code",
   "execution_count": null,
   "metadata": {},
   "outputs": [],
   "source": [
    "%%time\n",
    "intermediate_layer_model = Model(inputs=model.input,\n",
    "                                 outputs=model.get_layer(layer_name).output)"
   ]
  },
  {
   "cell_type": "code",
   "execution_count": null,
   "metadata": {},
   "outputs": [],
   "source": [
    "%%time\n",
    "intermediate_output = intermediate_layer_model(x_test[:1000])"
   ]
  },
  {
   "cell_type": "code",
   "execution_count": null,
   "metadata": {},
   "outputs": [],
   "source": [
    "intermediate_output"
   ]
  },
  {
   "cell_type": "code",
   "execution_count": null,
   "metadata": {},
   "outputs": [],
   "source": [
    "gen = intermediate_output.reshape(-1,64)"
   ]
  },
  {
   "cell_type": "code",
   "execution_count": null,
   "metadata": {},
   "outputs": [],
   "source": [
    "gen.shape"
   ]
  },
  {
   "cell_type": "code",
   "execution_count": null,
   "metadata": {},
   "outputs": [],
   "source": [
    "%%time\n",
    "np.savez_compressed(\"sentinel_flattened_gb_3_20210307\",gen=gen)"
   ]
  },
  {
   "cell_type": "code",
   "execution_count": null,
   "metadata": {},
   "outputs": [],
   "source": [
    "model.save(\"models/gb_postcode_3\")"
   ]
  },
  {
   "cell_type": "code",
   "execution_count": null,
   "metadata": {},
   "outputs": [],
   "source": [
    "intermediate_layer_model.save(\"models/gb_postcode_encoder_3\")"
   ]
  },
  {
   "cell_type": "code",
   "execution_count": null,
   "metadata": {},
   "outputs": [],
   "source": []
  }
 ],
 "metadata": {
  "kernelspec": {
   "display_name": "Python 3",
   "language": "python",
   "name": "python3"
  },
  "language_info": {
   "codemirror_mode": {
    "name": "ipython",
    "version": 3
   },
   "file_extension": ".py",
   "mimetype": "text/x-python",
   "name": "python",
   "nbconvert_exporter": "python",
   "pygments_lexer": "ipython3",
   "version": "3.8.12"
  }
 },
 "nbformat": 4,
 "nbformat_minor": 4
}
