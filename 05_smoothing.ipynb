{
 "cells": [
  {
   "cell_type": "markdown",
   "id": "9bfbf55c",
   "metadata": {},
   "source": [
    "# Representing Salient Context\n",
    "\n",
    "This notebook creates a smoothed average for each of the 64 input measures for every postcode, comprising values from those postcodes found within each 160m buffer. \n",
    "\n",
    "The `darribas/gds_py:6.1` Docker container was used to create a computational environment."
   ]
  },
  {
   "cell_type": "code",
   "execution_count": 1,
   "id": "corporate-bangkok",
   "metadata": {},
   "outputs": [],
   "source": [
    "import geopandas as gpd\n",
    "import numpy as np\n",
    "import pandas as pd"
   ]
  },
  {
   "cell_type": "code",
   "execution_count": 2,
   "id": "material-disposal",
   "metadata": {},
   "outputs": [
    {
     "name": "stderr",
     "output_type": "stream",
     "text": [
      "/opt/conda/lib/python3.8/site-packages/geopandas/geodataframe.py:577: RuntimeWarning: Sequential read of iterator was interrupted. Resetting iterator. This can negatively impact the performance.\n",
      "  for feature in features_lst:\n"
     ]
    }
   ],
   "source": [
    "geom = gpd.read_parquet('postcode_geom_osgb.pq')"
   ]
  },
  {
   "cell_type": "code",
   "execution_count": 3,
   "id": "allied-timeline",
   "metadata": {},
   "outputs": [
    {
     "name": "stdout",
     "output_type": "stream",
     "text": [
      "CPU times: user 8.66 s, sys: 78.2 ms, total: 8.73 s\n",
      "Wall time: 8.73 s\n",
      "CPU times: user 4.47 s, sys: 240 ms, total: 4.71 s\n",
      "Wall time: 4.71 s\n"
     ]
    }
   ],
   "source": [
    "%time buffered = geom.buffer(160, cap_style=3)\n",
    "%time buff_idx, pt_idx = geom.geometry.sindex.query_bulk(buffered, predicate=\"contains\")"
   ]
  },
  {
   "cell_type": "code",
   "execution_count": 32,
   "id": "valid-institute",
   "metadata": {},
   "outputs": [],
   "source": [
    "df = pd.read_csv('sentinel_gb_encoder_map_3_20210317.csv')"
   ]
  },
  {
   "cell_type": "code",
   "execution_count": 33,
   "id": "fifth-spring",
   "metadata": {},
   "outputs": [
    {
     "name": "stdout",
     "output_type": "stream",
     "text": [
      "CPU times: user 1 s, sys: 896 ms, total: 1.9 s\n",
      "Wall time: 1.9 s\n"
     ]
    }
   ],
   "source": [
    "%time latent = np.take(df.values, pt_idx, axis=0)"
   ]
  },
  {
   "cell_type": "code",
   "execution_count": 34,
   "id": "reduced-korea",
   "metadata": {},
   "outputs": [
    {
     "name": "stdout",
     "output_type": "stream",
     "text": [
      "CPU times: user 291 ms, sys: 24 ms, total: 315 ms\n",
      "Wall time: 314 ms\n"
     ]
    }
   ],
   "source": [
    "%time group = pd.DataFrame(latent).groupby(buff_idx)"
   ]
  },
  {
   "cell_type": "code",
   "execution_count": 35,
   "id": "solved-sound",
   "metadata": {},
   "outputs": [
    {
     "name": "stdout",
     "output_type": "stream",
     "text": [
      "CPU times: user 3.53 s, sys: 397 ms, total: 3.93 s\n",
      "Wall time: 3.93 s\n"
     ]
    }
   ],
   "source": [
    "%time smoothed = group.mean()"
   ]
  },
  {
   "cell_type": "code",
   "execution_count": 37,
   "id": "spanish-complement",
   "metadata": {},
   "outputs": [],
   "source": [
    "smoothed.to_csv(\"sentinel_gb_encoder_map_3_20210317_smoothed.csv\")"
   ]
  }
 ],
 "metadata": {
  "kernelspec": {
   "display_name": "Python 3",
   "language": "python",
   "name": "python3"
  },
  "language_info": {
   "codemirror_mode": {
    "name": "ipython",
    "version": 3
   },
   "file_extension": ".py",
   "mimetype": "text/x-python",
   "name": "python",
   "nbconvert_exporter": "python",
   "pygments_lexer": "ipython3",
   "version": "3.8.8"
  }
 },
 "nbformat": 4,
 "nbformat_minor": 5
}
